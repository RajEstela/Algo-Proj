{
  "cells": [
    {
      "cell_type": "code",
      "execution_count": 30,
      "metadata": {
        "id": "PBuYG3JGR3Yl"
      },
      "outputs": [],
      "source": [
        "# Basic Libraries\n",
        "import numpy as np\n",
        "import pandas as pd\n",
        "import seaborn as sb\n",
        "import matplotlib.pyplot as plt # we only need pyplot\n",
        "import random\n",
        "import json\n",
        "import time\n",
        "sb.set() # set the default Seaborn style for graphics\n",
        "comparison_count = 0# global comparison counter"
      ]
    },
    {
      "cell_type": "code",
      "execution_count": 31,
      "metadata": {
        "id": "_TaukdPzdKj7"
      },
      "outputs": [],
      "source": [
        "# #MergeSort method\n",
        "# def Merge_Sort_Split_Func(array):\n",
        "\n",
        "#     #Nothing in array\n",
        "#     if len(array) <= 1:\n",
        "#         return array\n",
        "\n",
        "#     #1) Split the array into left and right first\n",
        "#     middle = len(array) // 2\n",
        "#     left_side_array = array[:middle]\n",
        "#     right_side_array = array[middle:]\n",
        "\n",
        "#     #2) Recursively split and sort the left side first\n",
        "#     leftside_splitsort = Merge_Sort_Split_Func(left_side_array)\n",
        "#     #3) Then recursively split and sort the right side\n",
        "#     rightside_splitsort = Merge_Sort_Split_Func(right_side_array)\n",
        "\n",
        "#     #4) Once the left and right sides are sucessfully split proceed to merge\n",
        "#     return Merge(leftside_splitsort, rightside_splitsort)\n",
        "\n",
        "# #MergeSort merge method\n",
        "# def Merge(leftside_splitsort, rightside_splitsort):\n",
        "\n",
        "#     global comparison_count\n",
        "#     #Initialize array list var to store and return the final sorted result\n",
        "#     #and the 'x' , 'y' indexers\n",
        "#     sortedArray = []\n",
        "#     x = y = 0\n",
        "\n",
        "#     #1) Loop is done to compare elements from both sides\n",
        "#     while x < len(leftside_splitsort) and y < len(rightside_splitsort):\n",
        "#         comparison_count += 1\n",
        "#         #2) If left element is smaller than the right side,\n",
        "#         #   append the left element\n",
        "#         if leftside_splitsort[x] < rightside_splitsort[y]:\n",
        "#             sortedArray.append(leftside_splitsort[x])\n",
        "#             x += 1\n",
        "#         #3) Otherwise append right element\n",
        "#         else:\n",
        "#             sortedArray.append(rightside_splitsort[y])\n",
        "#             y += 1\n",
        "\n",
        "#     #4) Append any remaining elements in either list\n",
        "#     #   (as one might've been completely traversed)\n",
        "#     sortedArray.extend(leftside_splitsort[x:])\n",
        "#     sortedArray.extend(rightside_splitsort[y:])\n",
        "\n",
        "#     return sortedArray\n",
        "\n",
        "\n",
        "def Merge_Sort_Split_Func(array, start=0, end=None):\n",
        "    if end is None:\n",
        "        end = len(array)\n",
        "\n",
        "    # Base case: single element array is already sorted\n",
        "    if end - start <= 1:\n",
        "        return array[start:end]\n",
        "\n",
        "    # Find the middle index\n",
        "    middle = (start + end) // 2\n",
        "\n",
        "    # Recursively split and sort\n",
        "    leftside_splitsort = Merge_Sort_Split_Func(array, start, middle)\n",
        "    rightside_splitsort = Merge_Sort_Split_Func(array, middle, end)\n",
        "\n",
        "    # Merge the sorted halves\n",
        "    return Merge(leftside_splitsort, rightside_splitsort)\n",
        "\n",
        "def Merge(leftside_splitsort, rightside_splitsort):\n",
        "    global comparison_count\n",
        "\n",
        "    sortedArray = []\n",
        "    x = y = 0\n",
        "\n",
        "    # Compare elements from both sides and merge\n",
        "    while x < len(leftside_splitsort) and y < len(rightside_splitsort):\n",
        "        comparison_count += 1\n",
        "        if leftside_splitsort[x] < rightside_splitsort[y]:\n",
        "            sortedArray.append(leftside_splitsort[x])\n",
        "            x += 1\n",
        "        else:\n",
        "            sortedArray.append(rightside_splitsort[y])\n",
        "            y += 1\n",
        "\n",
        "    # Append remaining elements from both lists\n",
        "    sortedArray.extend(leftside_splitsort[x:])\n",
        "    sortedArray.extend(rightside_splitsort[y:])\n",
        "\n",
        "    return sortedArray\n"
      ]
    },
    {
      "cell_type": "code",
      "execution_count": 32,
      "metadata": {
        "id": "_JgkqJCQsQt8"
      },
      "outputs": [],
      "source": [
        "# #InsertionSort Method\n",
        "# def Insertion_Sort(array):\n",
        "#     global comparison_count\n",
        "#     arrNum = len(array)\n",
        "\n",
        "#     #Nothing in array\n",
        "#     if arrNum == 0:\n",
        "#         return array\n",
        "\n",
        "#     #1)Outer loop will loop through the array starting from index 1,\n",
        "#     #  it will use index 1 as the initial key comparer and iterate accordingly\n",
        "#     for i in range(1, arrNum):\n",
        "#         #2)Inner loop is used to traverse each element and\n",
        "#         #  compare with initial comparer\n",
        "#         for j in range(i, 0, -1):\n",
        "#             comparison_count += 1\n",
        "#             #3)Swap adjacent elements if they are in the wrong order\n",
        "#             if array[j] < array[j - 1]:\n",
        "#                 swap(array, j, j - 1)\n",
        "#             else:\n",
        "#                 break\n",
        "\n",
        "#     return array\n",
        "\n",
        "# # Swap function to exchange elements in the array\n",
        "# def swap(array, x, y):\n",
        "#     temp = array[y]\n",
        "#     array[y] = array[x]\n",
        "#     array[x] = temp\n",
        "\n",
        "def Insertion_Sort(array):\n",
        "    global comparison_count\n",
        "    arrNum = len(array)\n",
        "\n",
        "    # Nothing in array\n",
        "    if arrNum == 0:\n",
        "        return array\n",
        "\n",
        "    #1)Outer loop will loop through the array starting from index 1,\n",
        "    for i in range(1, arrNum):\n",
        "        key = array[i]\n",
        "        j = i - 1\n",
        "        #2)Inner loop is used to traverse each element and\n",
        "         #compare with initial comparer\n",
        "        while j >= 0 and array[j] > key:\n",
        "            comparison_count += 1\n",
        "            array[j + 1] = array[j]\n",
        "            j -= 1 # decrement\n",
        "\n",
        "        array[j + 1] = key\n",
        "\n",
        "    return array\n"
      ]
    },
    {
      "cell_type": "code",
      "execution_count": 33,
      "metadata": {
        "colab": {
          "base_uri": "https://localhost:8080/"
        },
        "id": "2HaaDb_BsXly",
        "outputId": "10230142-4ada-49d1-8a9b-ea8f77182b94"
      },
      "outputs": [
        {
          "name": "stdout",
          "output_type": "stream",
          "text": [
            "Merge Sort Test passed for Unsorted array: [38, 27, 43, 3, 9, 82, 10] -> [3, 9, 10, 27, 38, 43, 82] \n",
            "\n",
            "Merge Sort Test passed for Already sorted array: [1, 2, 3, 4, 5] -> [1, 2, 3, 4, 5] \n",
            "\n",
            "Merge Sort Test passed for Reverse sorted array: [5, 4, 3, 2, 1] -> [1, 2, 3, 4, 5] \n",
            "\n",
            "Merge Sort Test passed for Array with duplicates: [3, 1, 2, 1, 3, 2] -> [1, 1, 2, 2, 3, 3] \n",
            "\n",
            "Merge Sort Test passed for Empty array: [] -> [] \n",
            "\n",
            "Merge Sort Test passed for Single element array: [42] -> [42] \n",
            "\n",
            "Insertion Sort Test passed for Unsorted array: [3, 9, 10, 27, 38, 43, 82] -> [3, 9, 10, 27, 38, 43, 82] \n",
            "\n",
            "Insertion Sort Test passed for Already sorted array: [1, 2, 3, 4, 5] -> [1, 2, 3, 4, 5] \n",
            "\n",
            "Insertion Sort Test passed for Reverse sorted array: [1, 2, 3, 4, 5] -> [1, 2, 3, 4, 5] \n",
            "\n",
            "Insertion Sort Test passed for Array with duplicates: [1, 1, 2, 2, 3, 3] -> [1, 1, 2, 2, 3, 3] \n",
            "\n",
            "Insertion Sort Test passed for Empty array: [] -> [] \n",
            "\n",
            "Insertion Sort Test passed for Single element array: [42] -> [42] \n",
            "\n"
          ]
        }
      ],
      "source": [
        "#Test Sorting Methods\n",
        "def test_sort():\n",
        "    test_cases = [\n",
        "        {\n",
        "            \"input\": [38, 27, 43, 3, 9, 82, 10],\n",
        "            \"expected\": [3, 9, 10, 27, 38, 43, 82],\n",
        "            \"description\": \"Unsorted array\"\n",
        "        },\n",
        "        {\n",
        "            \"input\": [1, 2, 3, 4, 5],\n",
        "            \"expected\": [1, 2, 3, 4, 5],\n",
        "            \"description\": \"Already sorted array\"\n",
        "        },\n",
        "        {\n",
        "            \"input\": [5, 4, 3, 2, 1],\n",
        "            \"expected\": [1, 2, 3, 4, 5],\n",
        "            \"description\": \"Reverse sorted array\"\n",
        "        },\n",
        "        {\n",
        "            \"input\": [3, 1, 2, 1, 3, 2],\n",
        "            \"expected\": [1, 1, 2, 2, 3, 3],\n",
        "            \"description\": \"Array with duplicates\"\n",
        "        },\n",
        "        {\n",
        "            \"input\": [],\n",
        "            \"expected\": [],\n",
        "            \"description\": \"Empty array\"\n",
        "        },\n",
        "        {\n",
        "            \"input\": [42],\n",
        "            \"expected\": [42],\n",
        "            \"description\": \"Single element array\"\n",
        "        }\n",
        "    ]\n",
        "\n",
        "    # Run each test case\n",
        "    for case in test_cases:\n",
        "        input_data = case[\"input\"]\n",
        "        expected_output = case[\"expected\"]\n",
        "        description = case[\"description\"]\n",
        "\n",
        "        output = Merge_Sort_Split_Func(input_data)\n",
        "        assert output == expected_output, f\"Test failed for {description}: Expected {expected_output} but got {output}\"\n",
        "        print(f\"Merge Sort Test passed for {description}: {input_data} -> {output} \\n\")\n",
        "\n",
        "    for case in test_cases:\n",
        "        input_data = case[\"input\"]\n",
        "        expected_output = case[\"expected\"]\n",
        "        description = case[\"description\"]\n",
        "\n",
        "        output = Insertion_Sort(input_data)\n",
        "        assert output == expected_output, f\"Test failed for {description}: Expected {expected_output} but got {output}\"\n",
        "        print(f\"Insertion Sort Test passed for {description}: {input_data} -> {output} \\n\")\n",
        "\n",
        "# Call the test function\n",
        "if __name__ == \"__main__\":\n",
        "    test_sort()"
      ]
    },
    {
      "cell_type": "code",
      "execution_count": 34,
      "metadata": {
        "id": "8g8-WKJ_fb78"
      },
      "outputs": [],
      "source": [
        "#Hybrid sort\n",
        "\n",
        "def Hybrid_Merge_Sort(array, S):\n",
        "    global comparison_count\n",
        "    if len(array) <= S:\n",
        "        return Insertion_Sort(array)\n",
        "\n",
        "    middle = len(array) // 2\n",
        "    left_side_array = array[:middle]\n",
        "    right_side_array = array[middle:]\n",
        "\n",
        "    leftside_splitsort = Hybrid_Merge_Sort(left_side_array, S)\n",
        "    rightside_splitsort = Hybrid_Merge_Sort(right_side_array, S)\n",
        "\n",
        "    return Merge(leftside_splitsort, rightside_splitsort)\n",
        "\n"
      ]
    },
    {
      "cell_type": "code",
      "execution_count": 35,
      "metadata": {
        "id": "SeerCdYytnRB"
      },
      "outputs": [],
      "source": [
        "#data generator\n",
        "\n",
        "def generate_data(size, max_value):\n",
        "    return [random.randint(1, max_value) for _ in range(size)]\n"
      ]
    },
    {
      "cell_type": "markdown",
      "metadata": {
        "id": "UOOPopOpxSgz"
      },
      "source": [
        "# **With the value of S fixed, plot the number of key comparisons over different sizes of the input list n**"
      ]
    },
    {
      "cell_type": "code",
      "execution_count": 36,
      "metadata": {
        "colab": {
          "base_uri": "https://localhost:8080/",
          "height": 548
        },
        "id": "qJ56ophTtrmT",
        "outputId": "1bfd6516-8a70-4eba-d25a-943c3c96e46d"
      },
      "outputs": [
        {
          "name": "stdout",
          "output_type": "stream",
          "text": [
            "Input size: 1000, Key comparisons: 12587\n",
            "Input size: 5000, Key comparisons: 62859\n",
            "Input size: 10000, Key comparisons: 135783\n",
            "Input size: 50000, Key comparisons: 838011\n",
            "Input size: 100000, Key comparisons: 1776728\n",
            "Input size: 500000, Key comparisons: 10665984\n",
            "Input size: 1000000, Key comparisons: 22315237\n"
          ]
        },
        {
          "data": {
            "image/png": "[encoded data removed]",
            "text/plain": [
              "<Figure size 1000x600 with 1 Axes>"
            ]
          },
          "metadata": {},
          "output_type": "display_data"
        }
      ],
      "source": [
        "S = 32\n",
        "\n",
        "sizes = [1000, 5000, 10000, 50000, 100000, 500000, 1000000]\n",
        "\n",
        "comparisons_by_size = []\n",
        "\n",
        "for size in sizes:\n",
        "    data = generate_data(size, size)\n",
        "    comparison_count = 0\n",
        "    Hybrid_Merge_Sort(data, S)\n",
        "    comparisons_by_size.append(comparison_count)\n",
        "    print(f\"Input size: {size}, Key comparisons: {comparison_count}\")\n",
        "\n",
        "plt.figure(figsize=(10, 6))\n",
        "plt.plot(sizes, comparisons_by_size, marker='o', linestyle='-', color='b')\n",
        "plt.title('Key Comparisons vs Input Size (n) with Fixed Threshold S')\n",
        "plt.xlabel('Input Size (n)')\n",
        "plt.ylabel('Number of Key Comparisons')\n",
        "plt.grid(True)\n",
        "plt.show()"
      ]
    },
    {
      "cell_type": "markdown",
      "metadata": {
        "id": "jrnLO9dBxjVg"
      },
      "source": [
        "# **With the input size n fixed, plot the number of key comparisons over different values of S**"
      ]
    },
    {
      "cell_type": "code",
      "execution_count": 37,
      "metadata": {
        "colab": {
          "base_uri": "https://localhost:8080/",
          "height": 1000
        },
        "id": "_ZCsq2yaw3Hu",
        "outputId": "85ad6da4-d76e-4b4a-cf4c-1888d3029367"
      },
      "outputs": [
        {
          "name": "stdout",
          "output_type": "stream",
          "text": [
            "Threshold S: 1, Key comparisons: 120435\n",
            "Threshold S: 2, Key comparisons: 118409\n",
            "Threshold S: 3, Key comparisons: 117249\n",
            "Threshold S: 4, Key comparisons: 117024\n",
            "Threshold S: 5, Key comparisons: 116265\n",
            "Threshold S: 6, Key comparisons: 116141\n",
            "Threshold S: 7, Key comparisons: 116177\n",
            "Threshold S: 8, Key comparisons: 116002\n",
            "Threshold S: 9, Key comparisons: 116734\n",
            "Threshold S: 10, Key comparisons: 120193\n",
            "Threshold S: 11, Key comparisons: 119970\n",
            "Threshold S: 12, Key comparisons: 119993\n",
            "Threshold S: 13, Key comparisons: 119944\n",
            "Threshold S: 14, Key comparisons: 119942\n",
            "Threshold S: 15, Key comparisons: 120024\n",
            "Threshold S: 16, Key comparisons: 120120\n",
            "Threshold S: 17, Key comparisons: 120247\n",
            "Threshold S: 18, Key comparisons: 120182\n",
            "Threshold S: 19, Key comparisons: 126179\n",
            "Threshold S: 20, Key comparisons: 136126\n",
            "Threshold S: 21, Key comparisons: 135781\n",
            "Threshold S: 22, Key comparisons: 135329\n",
            "Threshold S: 23, Key comparisons: 135671\n",
            "Threshold S: 24, Key comparisons: 135240\n",
            "Threshold S: 25, Key comparisons: 135715\n",
            "Threshold S: 26, Key comparisons: 135558\n",
            "Threshold S: 27, Key comparisons: 134984\n",
            "Threshold S: 28, Key comparisons: 135039\n",
            "Threshold S: 29, Key comparisons: 135406\n",
            "Threshold S: 30, Key comparisons: 135494\n",
            "Threshold S: 31, Key comparisons: 135691\n",
            "Threshold S: 32, Key comparisons: 135363\n",
            "Threshold S: 33, Key comparisons: 136031\n",
            "Threshold S: 34, Key comparisons: 135387\n",
            "Threshold S: 35, Key comparisons: 134943\n",
            "Threshold S: 36, Key comparisons: 135665\n",
            "Threshold S: 37, Key comparisons: 135717\n",
            "Threshold S: 38, Key comparisons: 135358\n",
            "Threshold S: 39, Key comparisons: 171971\n",
            "Threshold S: 40, Key comparisons: 174353\n",
            "Threshold S: 41, Key comparisons: 174873\n",
            "Threshold S: 42, Key comparisons: 173978\n",
            "Threshold S: 43, Key comparisons: 174872\n",
            "Threshold S: 44, Key comparisons: 174300\n",
            "Threshold S: 45, Key comparisons: 174784\n",
            "Threshold S: 46, Key comparisons: 174195\n",
            "Threshold S: 47, Key comparisons: 174398\n",
            "Threshold S: 48, Key comparisons: 174700\n",
            "Threshold S: 49, Key comparisons: 173755\n",
            "Threshold S: 50, Key comparisons: 175817\n",
            "Threshold S: 51, Key comparisons: 174360\n",
            "Threshold S: 52, Key comparisons: 174734\n",
            "Threshold S: 53, Key comparisons: 174056\n",
            "Threshold S: 54, Key comparisons: 174679\n",
            "Threshold S: 55, Key comparisons: 175736\n",
            "Threshold S: 56, Key comparisons: 174919\n",
            "Threshold S: 57, Key comparisons: 173314\n",
            "Threshold S: 58, Key comparisons: 175595\n",
            "Threshold S: 59, Key comparisons: 174598\n",
            "Threshold S: 60, Key comparisons: 175490\n",
            "Threshold S: 61, Key comparisons: 175690\n",
            "Threshold S: 62, Key comparisons: 174215\n",
            "Threshold S: 63, Key comparisons: 174716\n",
            "Threshold S: 64, Key comparisons: 174770\n",
            "Threshold S: 65, Key comparisons: 173581\n",
            "Threshold S: 66, Key comparisons: 174575\n",
            "Threshold S: 67, Key comparisons: 174762\n",
            "Threshold S: 68, Key comparisons: 174034\n",
            "Threshold S: 69, Key comparisons: 174412\n",
            "Threshold S: 70, Key comparisons: 174068\n",
            "Threshold S: 71, Key comparisons: 175195\n",
            "Threshold S: 72, Key comparisons: 174560\n",
            "Threshold S: 73, Key comparisons: 175070\n",
            "Threshold S: 74, Key comparisons: 174560\n",
            "Threshold S: 75, Key comparisons: 174600\n",
            "Threshold S: 76, Key comparisons: 174984\n",
            "Threshold S: 77, Key comparisons: 175014\n",
            "Threshold S: 78, Key comparisons: 252345\n",
            "Threshold S: 79, Key comparisons: 261516\n",
            "Threshold S: 80, Key comparisons: 262059\n",
            "Threshold S: 81, Key comparisons: 262572\n",
            "Threshold S: 82, Key comparisons: 263600\n",
            "Threshold S: 83, Key comparisons: 260984\n",
            "Threshold S: 84, Key comparisons: 259537\n",
            "Threshold S: 85, Key comparisons: 262851\n",
            "Threshold S: 86, Key comparisons: 264254\n",
            "Threshold S: 87, Key comparisons: 265117\n",
            "Threshold S: 88, Key comparisons: 263039\n",
            "Threshold S: 89, Key comparisons: 260633\n",
            "Threshold S: 90, Key comparisons: 263783\n",
            "Threshold S: 91, Key comparisons: 261933\n",
            "Threshold S: 92, Key comparisons: 261257\n",
            "Threshold S: 93, Key comparisons: 262559\n",
            "Threshold S: 94, Key comparisons: 262655\n",
            "Threshold S: 95, Key comparisons: 264109\n",
            "Threshold S: 96, Key comparisons: 261257\n",
            "Threshold S: 97, Key comparisons: 263449\n",
            "Threshold S: 98, Key comparisons: 262623\n",
            "Threshold S: 99, Key comparisons: 262299\n",
            "Threshold S: 100, Key comparisons: 264005\n"
          ]
        },
        {
          "data": {
            "text/plain": [
              "<Figure size 1200x600 with 0 Axes>"
            ]
          },
          "metadata": {},
          "output_type": "display_data"
        },
        {
          "data": {
            "image/png": "[encoded data removed]",
            "text/plain": [
              "<Figure size 600x600 with 3 Axes>"
            ]
          },
          "metadata": {},
          "output_type": "display_data"
        }
      ],
      "source": [
        "fixed_size = 10000\n",
        "\n",
        "threshold_values = list(range(1, 101))\n",
        "\n",
        "comparisons_by_threshold = []\n",
        "\n",
        "for S in threshold_values:\n",
        "    data = generate_data(fixed_size, fixed_size)\n",
        "    comparison_count = 0\n",
        "    Hybrid_Merge_Sort(data, S)\n",
        "    comparisons_by_threshold.append(comparison_count)\n",
        "    print(f\"Threshold S: {S}, Key comparisons: {comparison_count}\")\n",
        "\n",
        "plt.figure(figsize=(12, 6))\n",
        "sb.jointplot(data=pd.DataFrame({\n",
        "    'Threshold S': threshold_values,\n",
        "    'Key Comparisons': comparisons_by_threshold\n",
        "}), x='Threshold S', y='Key Comparisons', kind='scatter', color='r')\n",
        "plt.suptitle('Joint Plot of Key Comparisons vs Threshold S', y=1.02)\n",
        "plt.show()"
      ]
    },
    {
      "cell_type": "code",
      "execution_count": 38,
      "metadata": {
        "colab": {
          "background_save": true
        },
        "id": "vxsoMwx_-Kd_",
        "outputId": "331770d4-f976-4915-dc34-16bf6820ba35"
      },
      "outputs": [
        {
          "name": "stdout",
          "output_type": "stream",
          "text": [
            "Input size: 1000, Optimal S: 6\n",
            "Input size: 5000, Optimal S: 7\n",
            "Input size: 10000, Optimal S: 8\n",
            "Input size: 50000, Optimal S: 6\n",
            "Input size: 100000, Optimal S: 4\n"
          ]
        }
      ],
      "source": [
        "input_sizes = [1000, 5000, 10000, 50000, 100000,10000000]  # You can add more sizes if needed\n",
        "threshold_values = list(range(1, 101))\n",
        "\n",
        "optimal_S_values = []\n",
        "\n",
        "for size in input_sizes:\n",
        "    comparisons_for_S = []\n",
        "\n",
        "    for S in threshold_values:\n",
        "        data = generate_data(size, size)\n",
        "        comparison_count = 0\n",
        "        Hybrid_Merge_Sort(data, S)\n",
        "        comparisons_for_S.append(comparison_count)\n",
        "\n",
        "    # Find the optimal S (the one with the fewest comparisons)\n",
        "    optimal_S = threshold_values[comparisons_for_S.index(min(comparisons_for_S))]\n",
        "    optimal_S_values.append(optimal_S)\n",
        "    print(f\"Input size: {size}, Optimal S: {optimal_S}\")\n",
        "\n",
        "# Plot the optimal S for each input size\n",
        "plt.figure(figsize=(10, 6))\n",
        "plt.plot(input_sizes, optimal_S_values, marker='o', linestyle='-', color='g')\n",
        "plt.title('Optimal Threshold S vs Input Size (n)')\n",
        "plt.xlabel('Input Size (n)')\n",
        "plt.ylabel('Optimal Threshold S')\n",
        "plt.grid(True)\n",
        "plt.show()"
      ]
    },
    {
      "cell_type": "code",
      "execution_count": 29,
      "metadata": {
        "colab": {
          "base_uri": "https://localhost:8080/"
        },
        "id": "LvFm4i3dIrT1",
        "outputId": "5591a3c9-b51e-4c3c-b908-545898bac09a"
      },
      "outputs": [
        {
          "name": "stdout",
          "output_type": "stream",
          "text": [
            "Original Mergesort: 220100011 comparisons, 47.68 seconds\n",
            "Hybrid Mergesort (S=2): 218002313 comparisons, 48.54 seconds\n"
          ]
        }
      ],
      "source": [
        "# optimal_S = 2 # Replace with the actual optimal S from (c)iii\n",
        "n = 10000000\n",
        "data_original = generate_data(n, n)\n",
        "data_hybrid = data_original.copy()\n",
        "\n",
        "comparison_count = 0\n",
        "start_time = time.time()\n",
        "Merge_Sort_Split_Func(data_original)\n",
        "original_mergesort_time = time.time() - start_time\n",
        "original_comparisons = comparison_count\n",
        "\n",
        "print(f\"Original Mergesort: {original_comparisons} comparisons, {original_mergesort_time:.2f} seconds\")\n",
        "\n",
        "for s in optimal_S_values:\n",
        "    comparison_count = 0\n",
        "    start_time = time.time()\n",
        "    Hybrid_Merge_Sort(data_hybrid, s)\n",
        "    hybrid_mergesort_time = time.time() - start_time\n",
        "    hybrid_comparisons = comparison_count\n",
        "\n",
        "    print(f\"Hybrid Mergesort (S={s}): {hybrid_comparisons} comparisons, {hybrid_mergesort_time:.2f} seconds \\n\")\n",
        "\n"
      ]
    }
  ],
  "metadata": {
    "colab": {
      "provenance": []
    },
    "kernelspec": {
      "display_name": "Python 3",
      "name": "python3"
    },
    "language_info": {
      "codemirror_mode": {
        "name": "ipython",
        "version": 3
      },
      "file_extension": ".py",
      "mimetype": "text/x-python",
      "name": "python",
      "nbconvert_exporter": "python",
      "pygments_lexer": "ipython3",
      "version": "3.11.4"
    }
  },
  "nbformat": 4,
  "nbformat_minor": 0
}
